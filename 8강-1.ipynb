{
 "cells": [
  {
   "cell_type": "markdown",
   "metadata": {},
   "source": [
    "### 아달라인 하강법"
   ]
  },
  {
   "cell_type": "code",
   "execution_count": null,
   "metadata": {},
   "outputs": [],
   "source": [
    "# Implementation of  Widrow's Adaptive Linear classifier algorithm\n",
    "# Author: idebtor@gmail.com\n",
    "class AdalineGD(object):\n",
    "    \"\"\"ADAptive LInear NEuron classifier.\n",
    "    Parameters\n",
    "        eta: float, Learning rate (between 0.0 and 1.0)\n",
    "        epochs: int, Passes over the training dataset.\n",
    "        random_seed : int, Random number generator seed for reproducibility\n",
    "    Attributes\n",
    "        w_ : 1d-array, Weights after fitting.\n",
    "        cost_ : list, Sum-of-squares cost function value in each epoch.\n",
    "    \"\"\"\n",
    "    def __init__(self, eta=0.01, epochs=10, random_seed=1):\n",
    "        self.eta = eta\n",
    "        self.epochs = epochs\n",
    "        self.random_seed = random_seed\n",
    "\n",
    "    def fit(self, X, y):\n",
    "        \"\"\" Fit training data.\n",
    "        Parameters\n",
    "            X: numpy.ndarray, shape=(n_samples, m_features), \n",
    "                Training vectors, where n_samples is the number of samples and\n",
    "                n_features is the number of features.\n",
    "            y : array-like, shape = [n_samples]\n",
    "                Target values.\n",
    "        Returns\n",
    "            self : object\n",
    "        \"\"\"\n",
    "        np.random.seed(self.random_seed)\n",
    "        self.w = np.random.random(size=X.shape[1] + 1)\n",
    "\n",
    "        self.maxy, self.miny = y.max(), y.min()\n",
    "        self.cost_ = []\n",
    "        self.w_ = np.array([self.w])\n",
    "\n",
    "        for i in range(self.epochs):\n",
    "            Z = self.net_input(X)\n",
    "            yhat = self.activation(Z)\n",
    "            errors = (y - yhat)\n",
    "            self.w[1:] += self.eta * np.dot(errors, X)\n",
    "            self.w[0] += self.eta * np.sum(errors)\n",
    "            cost = 0.5 * np.sum(errors**2)\n",
    "            self.cost_.append(cost)\n",
    "            self.w_ = np.vstack([self.w_, self.w]) \n",
    "        return self\n",
    "\n",
    "    def net_input(self, X):            \n",
    "        \"\"\"Compute the value of z, net input  \"\"\"\n",
    "        return np.dot(X, self.w[1:]) + self.w[0]\n",
    "\n",
    "    def activation(self, X):  \n",
    "        \"\"\"Identity activation function: \"\"\"\n",
    "        return X\n",
    "\n",
    "    def predict(self, X):      \n",
    "        \"\"\"Predict the class label with  \"\"\"\n",
    "        mid = (self.maxy + self.miny) / 2\n",
    "        Z = self.net_input(X)\n",
    "        yhat = self.activation(Z)\n",
    "        return np.where(yhat > mid, self.maxy, self.miny)"
   ]
  }
 ],
 "metadata": {
  "kernelspec": {
   "display_name": "Python 3",
   "language": "python",
   "name": "python3"
  },
  "language_info": {
   "codemirror_mode": {
    "name": "ipython",
    "version": 3
   },
   "file_extension": ".py",
   "mimetype": "text/x-python",
   "name": "python",
   "nbconvert_exporter": "python",
   "pygments_lexer": "ipython3",
   "version": "3.6.8"
  }
 },
 "nbformat": 4,
 "nbformat_minor": 2
}
