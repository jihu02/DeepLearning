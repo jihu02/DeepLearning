{
 "cells": [
  {
   "cell_type": "markdown",
   "metadata": {},
   "source": [
    "### XOR 데이터"
   ]
  },
  {
   "cell_type": "code",
   "execution_count": 1,
   "metadata": {},
   "outputs": [
    {
     "name": "stdout",
     "output_type": "stream",
     "text": [
      "X.shape=(2, 4). y.shape(1, 4)\n",
      "[[0 0 1 1]\n",
      " [0 1 0 1]]\n",
      "[[0 1 1 0]]\n"
     ]
    }
   ],
   "source": [
    "import numpy as np\n",
    "X = np.array([[0, 0, 1, 1], [0, 1, 0, 1]])\n",
    "y = np.array([[0, 1, 1, 0]])\n",
    "print('X.shape={}. y.shape{}'.format(X.shape, y.shape))\n",
    "print(X)\n",
    "print(y)"
   ]
  },
  {
   "cell_type": "code",
   "execution_count": 2,
   "metadata": {},
   "outputs": [
    {
     "name": "stdout",
     "output_type": "stream",
     "text": [
      "W1: [[-0.16595599  0.44064899]\n",
      " [-0.99977125 -0.39533485]\n",
      " [-0.70648822 -0.81532281]]\n",
      "W2: [[-0.62747958 -0.30887855 -0.20646505]]\n"
     ]
    }
   ],
   "source": [
    "import numpy as np\n",
    "n_x = X.shape[0]\n",
    "n_y = y.shape[0]\n",
    "n_h = 3\n",
    "np.random.seed(1)\n",
    "W1 = 2 * np.random.random((n_h, n_x)) - 1\n",
    "W2 = 2 * np.random.random((n_y, n_h)) - 1\n",
    "print(\"W1: {}\".format(W1))\n",
    "print(\"W2: {}\".format(W2))\n",
    "# 가중치: 행렬의 형상 구현"
   ]
  },
  {
   "cell_type": "code",
   "execution_count": 3,
   "metadata": {},
   "outputs": [],
   "source": [
    "class NeuralNetwork():\n",
    "    \"\"\"This class implements a multi-perceptron\n",
    "       with backpropagation. This handles a simple logic\n",
    "       such as OR, AND, NAND, and NOR gates, including XOR.\"\"\"\n",
    "    \n",
    "    def __init__(self, net_arch, eta = 0.1, epochs = 10000, random_seed = 1):\n",
    "        self.layers = len(net_arch)\n",
    "        self.net_arch = net_arch\n",
    "        self.eta  = eta\n",
    "        self.epochs = epochs\n",
    "        self.random_seed = random_seed\n",
    "        #net_arch = 신경망 구조를 나타내는 변수. 각 층의 노드의 수 \n",
    "        \n",
    "    def g(self, x):#활성화 함수\n",
    "        return 1 / (1 + np.exp((-x)))\n",
    "    \n",
    "    def g_prime(self, x):\n",
    "        return self.g(x) * (1 - self.g(x))"
   ]
  }
 ],
 "metadata": {
  "kernelspec": {
   "display_name": "Python 3",
   "language": "python",
   "name": "python3"
  },
  "language_info": {
   "codemirror_mode": {
    "name": "ipython",
    "version": 3
   },
   "file_extension": ".py",
   "mimetype": "text/x-python",
   "name": "python",
   "nbconvert_exporter": "python",
   "pygments_lexer": "ipython3",
   "version": "3.6.8"
  }
 },
 "nbformat": 4,
 "nbformat_minor": 2
}
