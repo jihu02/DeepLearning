{
 "cells": [
  {
   "cell_type": "markdown",
   "metadata": {},
   "source": [
    "## 퍼셉트론 함수 구현"
   ]
  },
  {
   "cell_type": "code",
   "execution_count": 2,
   "metadata": {},
   "outputs": [],
   "source": [
    "#%%writefile code/perceptron.py\n",
    "def perceptron(X, y, w = None, eta = 0.1, epochs = 5, random_seed = 1):\n",
    "    if w is None:\n",
    "        np.random.seed(random_seed)/*random*/\n",
    "        w = np.random.random((X.shape[1], 1))\n",
    "    maxlable, minlabel = y.max(), y.min()\n",
    "    for _ in range(epochs):\n",
    "        for xi, yi in zip(X, y):\n",
    "            xi = xi.reshape(w.shape)\n",
    "            z = np.dot(w.T, xi)\n",
    "            yhat = np.where(z >= 0.0, maxlabel, minlabel)\n",
    "            delta = eta * (yi - yhat) * xi\n",
    "            w += delta\n",
    "    return w"
   ]
  }
 ],
 "metadata": {
  "kernelspec": {
   "display_name": "Python 3",
   "language": "python",
   "name": "python3"
  },
  "language_info": {
   "codemirror_mode": {
    "name": "ipython",
    "version": 3
   },
   "file_extension": ".py",
   "mimetype": "text/x-python",
   "name": "python",
   "nbconvert_exporter": "python",
   "pygments_lexer": "ipython3",
   "version": "3.6.7"
  }
 },
 "nbformat": 4,
 "nbformat_minor": 2
}
