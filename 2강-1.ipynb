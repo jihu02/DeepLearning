{
 "cells": [
  {
   "cell_type": "markdown",
   "metadata": {},
   "source": [
    "# 2강 함수와 뉴런, 넘파이 튜토리얼"
   ]
  },
  {
   "cell_type": "code",
   "execution_count": 4,
   "metadata": {},
   "outputs": [
    {
     "name": "stdout",
     "output_type": "stream",
     "text": [
      "0mile:0.0km\n",
      "1mile:1.61km\n",
      "2mile:3.22km\n",
      "3mile:4.83km\n",
      "4mile:6.44km\n"
     ]
    },
    {
     "data": {
      "image/png": "[encoded data removed]",
      "text/plain": [
       "<Figure size 432x288 with 1 Axes>"
      ]
     },
     "metadata": {
      "needs_background": "light"
     },
     "output_type": "display_data"
    }
   ],
   "source": [
    "import matplotlib.pyplot as plt\n",
    "%matplotlib inline\n",
    "\n",
    "def mileToKm(x):\n",
    "    \"\"\"x 마일을 Km로 변환하여 반환\"\"\"\n",
    "    return 1.61 * x\n",
    "\n",
    "def plotMileToKm(x,y):\n",
    "    \"\"\"x, y의 값들을 그래프로 출력\"\"\"\n",
    "    plt.figure()\n",
    "    plt.plot(x,y)\n",
    "    plt.title('Mile to Km')\n",
    "    plt.xlabel('Mile')\n",
    "    plt.ylabel('Km')\n",
    "    plt.show()\n",
    "\n",
    "#mileToKm 적용\n",
    "for mile in range(0, 5):\n",
    "        print('{}mile:{}km'.format(mile, mileToKm(mile)))\n",
    "        \n",
    "#plotMileToKm 적용\n",
    "x = [0, 1, 2, 3, 4]\n",
    "y = [0, 1.61, 3.33, 4.83, 6.44]\n",
    "plotMileToKm(x,y)"
   ]
  },
  {
   "cell_type": "markdown",
   "metadata": {},
   "source": [
    "__plt.plot(x, y, 'ob')->o모양 blue__ &\n",
    "__plt.plot(x, y, '-sr')-> -로 연결되어 sqaure모양 red__"
   ]
  }
 ],
 "metadata": {
  "kernelspec": {
   "display_name": "Python 3",
   "language": "python",
   "name": "python3"
  },
  "language_info": {
   "codemirror_mode": {
    "name": "ipython",
    "version": 3
   },
   "file_extension": ".py",
   "mimetype": "text/x-python",
   "name": "python",
   "nbconvert_exporter": "python",
   "pygments_lexer": "ipython3",
   "version": "3.6.7"
  }
 },
 "nbformat": 4,
 "nbformat_minor": 2
}
