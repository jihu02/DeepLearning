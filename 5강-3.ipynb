{
 "cells": [
  {
   "cell_type": "code",
   "execution_count": 1,
   "metadata": {},
   "outputs": [],
   "source": [
    "class Car:\n",
    "    def __init__(self, length, weight):\n",
    "        self.length = length\n",
    "        self.weight = weight\n",
    "        self.speed = 0\n",
    "    def forward(self):\n",
    "        print(\"Move Forward!\")\n",
    "    def backward(self):\n",
    "        print(\"Move Backward!\")\n",
    "    def move(self, owner):\n",
    "        owner.pos += 10\n",
    "    def speedUP(self):\n",
    "        self.speed += 10\n",
    "    def change(self, length, weight):\n",
    "        self.length = length\n",
    "        self.weight = weight"
   ]
  },
  {
   "cell_type": "code",
   "execution_count": 2,
   "metadata": {},
   "outputs": [],
   "source": [
    "#객체지향 프로그래밍~~~"
   ]
  },
  {
   "cell_type": "code",
   "execution_count": 3,
   "metadata": {},
   "outputs": [
    {
     "name": "stdout",
     "output_type": "stream",
     "text": [
      "3.5\n",
      "1200\n"
     ]
    }
   ],
   "source": [
    "myCar = Car(4, 1380)\n",
    "myCar.change(3.5, 1200)\n",
    "print(myCar.length)\n",
    "print(myCar.weight)"
   ]
  }
 ],
 "metadata": {
  "kernelspec": {
   "display_name": "Python 3",
   "language": "python",
   "name": "python3"
  },
  "language_info": {
   "codemirror_mode": {
    "name": "ipython",
    "version": 3
   },
   "file_extension": ".py",
   "mimetype": "text/x-python",
   "name": "python",
   "nbconvert_exporter": "python",
   "pygments_lexer": "ipython3",
   "version": "3.6.7"
  }
 },
 "nbformat": 4,
 "nbformat_minor": 2
}
